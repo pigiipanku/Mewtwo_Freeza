{
  "nbformat": 4,
  "nbformat_minor": 0,
  "metadata": {
    "colab": {
      "name": "Mewtwo Freeza.ipynb",
      "version": "0.3.2",
      "provenance": [],
      "collapsed_sections": [],
      "include_colab_link": true
    },
    "kernelspec": {
      "name": "python3",
      "display_name": "Python 3"
    },
    "accelerator": "GPU"
  },
  "cells": [
    {
      "cell_type": "markdown",
      "metadata": {
        "id": "view-in-github",
        "colab_type": "text"
      },
      "source": [
        "[View in Colaboratory](https://colab.research.google.com/github/pigiipanku/Mewtwo_Freeza/blob/master/Mewtwo_Freeza.ipynb)"
      ]
    },
    {
      "metadata": {
        "id": "BlzJL8K6lDPj",
        "colab_type": "code",
        "colab": {}
      },
      "cell_type": "code",
      "source": [
        "!ls train/Mewtoo"
      ],
      "execution_count": 0,
      "outputs": []
    },
    {
      "metadata": {
        "id": "aqI4FEbps5m9",
        "colab_type": "code",
        "colab": {}
      },
      "cell_type": "code",
      "source": [
        "#必要なファイルをダウンロード\n",
        "\n",
        "#model weight\n",
        "!wget \"https://www.dropbox.com/s/b24m53a6x7zlb5e/model.json?dl=1\" -nc -O ./model.json\n",
        "!wget \"https://www.dropbox.com/s/rzkk1gabm6ltvl8/weight.h5?dl=1\" -nc -O ./weight.h5\n",
        "!wget \"https://www.dropbox.com/s/jah7hzm1eze7zgd/train.zip?dl=1\" -nc -O ./train.zip\n",
        "!wget \"https://www.dropbox.com/s/ec1pkk3831ap5ew/valid.zip?dl=1\" -nc -O ./valid.zip\n",
        "\n",
        "!unzip train.zip\n",
        "!unzip valid.zip"
      ],
      "execution_count": 0,
      "outputs": []
    },
    {
      "metadata": {
        "id": "55lTbjDf2UQE",
        "colab_type": "code",
        "colab": {}
      },
      "cell_type": "code",
      "source": [
        "#必要なライブラリをインポート\n",
        "\n",
        "import os\n",
        "import random\n",
        "import numpy as np\n",
        "import h5py\n",
        "import matplotlib.pyplot as plt\n",
        "from keras.models import Sequential, Model, model_from_json\n",
        "from keras.layers import Dense, Dropout, Activation, Flatten\n",
        "from keras.layers import Conv2D, MaxPooling2D\n",
        "from keras.preprocessing.image import load_img,img_to_array,ImageDataGenerator\n",
        "from keras.optimizers import SGD"
      ],
      "execution_count": 0,
      "outputs": []
    },
    {
      "metadata": {
        "id": "27XJkeN0liwn",
        "colab_type": "text"
      },
      "cell_type": "markdown",
      "source": [
        "##ミュウツーvsフリーザ\n",
        "ディープラーニングでミュウツーとフリーザを画像認識していきます。\n",
        "\n",
        "###ミュウツー(ポケモン)\n",
        "![ミュウツー](https://www.dropbox.com/s/513apwjec943lmk/150.gif?dl=1)\n",
        "###フリーザ（DRAGON BALL)\n",
        "![代替テキスト](https://www.dropbox.com/s/boxy5zx754g68fh/%E3%83%95%E3%83%AA%E3%83%BC%E3%82%B6_%E3%83%89%E3%83%A9%E3%82%B4%E3%83%B3%E3%83%9C%E3%83%BC%E3%83%AB%E3%83%95%E3%82%A1%E3%82%A4%E3%82%BF%E3%83%BC%E3%82%BA.png?dl=1)\n",
        "\n",
        "\n",
        "画像認識は、\n",
        "\n",
        "**ミュウツー**の画像を与えられれば、その画像に写っているのは**ミュウツー**と、\n",
        "\n",
        "**フリーザ**の画像が与えられれば、その画像に写っているのは**フリーザ**と判断することです。\n",
        "\n",
        "\n",
        "ディープラーニング（Deep Newral Network)を使って画像認識器を構築していきます。ディープラーニングのなかでも画像の処理を得意とする**Convolutional Neural Network**(以下CNN)を使います。\n",
        "\n",
        "今回は、なにかとよく似ていると言われがちな**ミュウツー**と**フリーザ**の画像認識器を構築していきます。\n",
        "\n",
        "\n",
        "\n",
        "\n",
        "\n",
        "\n",
        "\n",
        "\n"
      ]
    },
    {
      "metadata": {
        "id": "Xc8TUL8K62Mv",
        "colab_type": "text"
      },
      "cell_type": "markdown",
      "source": [
        "##画像認識\n",
        "\n",
        "###なんでコンピュータは画像認識ごときもできなかったの？\n",
        "\n",
        "私達、人間にとっては画像認識は簡単です。**ミュウツー**と**フリーザ**なんて１秒もかからずに見分けることができるでしょう。私達は画像認識なんかよりも、素因数分解のほうがよっぽど大変です。\n",
        "\n",
        "\n",
        "では、なぜ画像認識をコンピュータで行うことが難しい理由を考えてみましょう。そもそも、コンピュータに画像はどのようにみえているのでしょうか？コンピュータにとって画像とは、輝度値（0~255の値）またはRGB値(赤・緑・青の割合を0~255で表した値)　が二次元に並んだデータです。\n",
        "\n",
        "では、ある画像の輝度値を二次元に並べ、グラフで表示した図を下に示します。このグラフからなんの画像を表しているかわかるでしょうか？\n",
        "###輝度値の二次元グラフ\n",
        "![](https://www.dropbox.com/s/xh8t36ezw7882mi/IMG_4297.JPG?dl=1 =300x300)\n",
        "\n",
        "この画像を見て、ずばり何を意味するか分かる方はほとんどいないと思います。ル○ーシュレベルの天才しかわからないと思います。\n",
        "\n",
        "この輝度値が表す実際の画像を下に示します。\n",
        "###輝度値のグラフが表すもの\n",
        "![](https://www.dropbox.com/s/pbq7myzwa9102ze/IMG_4298.JPG?dl=1 =300x300)\n",
        "\n",
        "この画像を見れば、誰でもひと目でりんごの絵だとわかりますね。みなみけの次女でもわかります。\n",
        "\n",
        "しかし、コンピュータから見えている画像は輝度値の二次元グラフのようなただの数字の集まりです。人間は物体の映る画像を見ると、習字に物体のまとまりを認識でき、まとまりが何を表しているかを理解することができます。ところが、コンピュータにとってそれが容易でないことは、人間が輝度値の二次元グラフからりんごを想像できないのと同じです。\n",
        "\n",
        "画像認識が難しい問題なことがご理解いただけたと思います。\n",
        "\n",
        "###画像認識の難しさはまだあるぜ！\n",
        "\n",
        "さらに、画像認識が難しい理由を説明します。画像認識を行うには、写っている物体の種類を判定するための基準が必要です。しかし、その判定基準を作るのが難しいです。\n",
        "\n",
        "例えば、下の画像に写っている果物を判別する問題で考えてみます。\n",
        "###フルーツバスケット♪\n",
        "![](https://www.dropbox.com/s/9coig3ixj1ir587/e0142313_15354059.jpg?dl=1)\n",
        "\n",
        "色で区別する場合はどうでしょうか？色を使えば、「みかん」と「りんご」を見分けるのは簡単ですね。ですが、「みかん」と「かき」の場合は両方共オレンジだから区別するのは難しいです。\n",
        "\n",
        "それでは、形で区別した場合はどうでしょうか？「バナナ」と「グレープフルーツ」は簡単に区別できそうです。しかし、「りんご」と「なし」は両方共同じ形をしているので区別するのが難しいです。色と形の両方を使えば、いろいろ区別できそうです。それでも、「みかん」と「かき」はどうでしょうか？\n",
        "\n",
        "このようにかんがえると、画像認識の仕組みを作成することが単純でないことがわかります。だから、機械にその判断基準を決めさせるべきです。\n",
        "\n",
        "そんな中、機械学習、ディープラーニングは手段が明確に決まらいような処理をコンピュータで処理する手段として有効です。画像認識はまさにこれにあてはまります。\n",
        "\n",
        "その中でも、教師ありの機械学習のCNNは最も有効な手段です。\n",
        "\n",
        "\n",
        "\n",
        "\n"
      ]
    },
    {
      "metadata": {
        "id": "V6B39U8svyA2",
        "colab_type": "text"
      },
      "cell_type": "markdown",
      "source": [
        "##CNN(Convolution Neural Network)の概要\n",
        "####CNN\n",
        "![代替テキスト](https://www.dropbox.com/s/5n4dnvin9a7l8dq/cnn_thumb.jpg?dl=1)\n",
        "\n",
        "###ざっくりした説明\n",
        "CNNは画像認識で最もよく使われる手法で、最近の自動運転技術とかにも使われています。\n",
        "\n",
        "教師ありの機械学習のCNNをざっくりと説明してしまえば、大量の画像と画像に写っている物体名の組を、訓練データとして用意します。そして、CNNの入力層に画像を、出力層に物体名を入れて、訓練すればいい。それだけです。\n",
        "\n",
        "\n",
        "###ちょっと具体的な説明\n",
        "####CNNの設計図\n",
        "![](https://www.dropbox.com/s/v4l47n3ky8s23sn/IMG_4301.JPG?dl=1)\n",
        "\n",
        "CNNは**畳み込み層(Conv)**と**ブーリング層(Pooling)**を持つニューラルネットワークを利用したアルゴリズムです。\n",
        "\n",
        "**全結合層(Dense)**という通常のニューラルネットワークの代表的な層も持ちます。\n",
        "\n",
        "CNNを使って、ミュウツーとフリーザを画像認識します。\n",
        "みなさんには**畳み込み層(Conv)**と**ブーリング層(Pooling)**と**全結合層(Dense)**の3つの層を組み合わせてCNNを構成してもらいます。\n",
        "\n",
        "これからそれを説明します。\n",
        "\n",
        "###畳み込み層\n",
        "![](https://www.dropbox.com/s/4bwci7qnrgqxvu6/IMG_4302.JPG?dl=1)\n",
        "\n",
        "畳み込み層とは、ある画像の局所的な部分を抽象化する役割を果たします。上の図では前の層のノードのうち局所的な部分が、次の層の３つの部分と接続されています。このとき、それぞれ違った部分で抽象化が行われます。抽象化とは、ある特徴を浮き立たせるような効果を指します。\n",
        "\n",
        "つまり、畳み込み層は画像の局所的な部分の特徴を様々な方法で浮き立たせます。\n",
        "\n",
        "畳み込み層は\n",
        "Conv2D(f,k,padding='same',activation='relu')\n",
        "で使えます。\n",
        "\n",
        "fには32,64のどちらかを選択してください。fは上の図の次の層の数を決めます。上の図では3です。\n",
        "\n",
        "kには(2,2),(3,3),(4,4),(5,5)のどれかを選択してください。kは上の図の前の層の近隣にあるノードの集合を表しています。上の図では(3,3)です。\n",
        "\n",
        "\n",
        "###プーリング層\n",
        "![](https://www.dropbox.com/s/11eny0i53ukyjbp/IMG_4303.JPG?dl=1)\n",
        "プーリング層は前の層の局所的な部分をまとめ上げる処理を指します。特に、局所的な部分の最大値を取る処理は「最大プーリング」と呼ばれます。プーリング層は、位置変更への感度を下げることで、小さな平行移動に対する普遍性をもたせる役割を果たします。なぜなら、少しの平行移動があってもプーリング層は局所的な最大値を次の層に返すので、つぎの層の値はほぼ変わりません。\n",
        "\n",
        "プーリング層は\n",
        "MaxPooling2D(p)\n",
        "で使えます。\n",
        "\n",
        "pには(2,2),(3,3),(4,4)のどれかを選択してください。pは上の図で前の層の最大値を取る範囲を示します。上の図だと、(3,3)です。\n",
        "\n",
        "###全結合層\n",
        "![](https://www.dropbox.com/s/nkjyoquq3r7j13r/IMG_4304.JPG?dl=1)\n",
        "\n",
        "前の層と自分の層をすべて結ばれています。\n",
        "全結合層では、処理するための計算量は大きくなる傾向があります。ですが、複雑なことができるようになります。全結合層は最後の方によく使われます。\n",
        "\n",
        "全結合層は\n",
        "Dense(n)\n",
        "でつかえます。\n",
        "\n",
        "nには32,64,128,256,512を選択してください。これはノードの数で、上の図の左は４、右は２です。\n",
        "\n"
      ]
    },
    {
      "metadata": {
        "id": "ulDbJITAYyC7",
        "colab_type": "text"
      },
      "cell_type": "markdown",
      "source": [
        "##プログラミング課題\n",
        "\n",
        "\n",
        "\n",
        "\n",
        "*   畳み込み層は Conv2D(f,k,padding='same',activation='relu') で使えます。\n",
        "\n",
        "fには32,64のどちらかを選択してください。fは上の図の次の層の数を決めます。上の図では3です。\n",
        "\n",
        "kには(2,2),(3,3),(4,4),(5,5)のどれかを選択してください。kは上の図の前の層の近隣にあるノードの集合を表しています。上の図では(3,3)です。\n",
        "*   プーリング層は MaxPooling2D(p) で使えます。\n",
        "\n",
        "pには(2,2),(3,3),(4,4)のどれかを選択してください。pは上の図で前の層の最大値を取る範囲を示します。上の図だと、(3,3)です。\n",
        "\n",
        "\n",
        "*   全結合層は Dense(n) でつかえます。\n",
        "\n",
        "nには32,64,128,256,512を選択してください。これはノードの数で、上の図の左は４、右は２です。\n",
        "\n",
        "\n",
        "層を追加したいときはmodel.add()の()のなかにその層を入れてください\n",
        "\n",
        "\n",
        "注意としては、はじめはConv2Dから始めてください。そして、input_shape=(img_height, img_width, 3)をそこだけ入れてください。\n",
        "\n",
        "Conv2DとMaxPoolingを組み合わせて前半を、Denseを使って後半を構成してください。\n",
        "\n",
        "まずは一つの手本を見せます。"
      ]
    },
    {
      "metadata": {
        "id": "dbV-4Ds3eLY9",
        "colab_type": "code",
        "colab": {}
      },
      "cell_type": "code",
      "source": [
        "#例\n",
        "num_classes = 2\n",
        "img_height, img_width = 150, 150\n",
        "\n",
        "def Mynet():\n",
        "    model = Sequential()\n",
        "    #前半\n",
        "    model.add(Conv2D(32, (3, 3), padding='same', activation='relu', input_shape=(img_height, img_width, 3)))\n",
        "    model.add(Conv2D(32, (3, 3), padding='same', activation='relu'))\n",
        "    model.add(MaxPooling2D((2, 2)))\n",
        "\n",
        "    model.add(Conv2D(64, (3, 3), padding='same', activation='relu'))\n",
        "    model.add(Conv2D(64, (3, 3), padding='same', activation='relu'))\n",
        "    model.add(MaxPooling2D(pool_size=(2, 2)))\n",
        "    #前半修了\n",
        "    model.add(Flatten())\n",
        "    #後半\n",
        "    model.add(Dense(32))\n",
        "    model.add(Dense(32))\n",
        "    #後半修了\n",
        "    model.add(Dense(num_classes))\n",
        "    model.add(Activation('softmax'))\n",
        "\n",
        "    return model\n",
        "model = Mynet()\n",
        "model.summary()"
      ],
      "execution_count": 0,
      "outputs": []
    },
    {
      "metadata": {
        "id": "OGK3Nj6_fyD_",
        "colab_type": "text"
      },
      "cell_type": "markdown",
      "source": [
        "じゃあ実際に前半と前半修了の間にConv2DとMaxPooling2Dをくみあわせて、後半はDenseをくみあわせて、CNNを構築してい見てください。数字や層の数は変えても大丈夫です。"
      ]
    },
    {
      "metadata": {
        "id": "6mj0yA9LfrJA",
        "colab_type": "code",
        "colab": {}
      },
      "cell_type": "code",
      "source": [
        "#課題\n",
        "num_classes = 2\n",
        "img_height, img_width = 150, 150\n",
        "\n",
        "def Mynet():\n",
        "    model = Sequential()\n",
        "    #前半\n",
        "\n",
        "    #前半修了\n",
        "    model.add(Flatten())\n",
        "    #後半\n",
        "\n",
        "    #後半修了\n",
        "    model.add(Dense(num_classes))\n",
        "    model.add(Activation('softmax'))\n",
        "\n",
        "    return model\n",
        "model = Mynet()\n",
        "model.summary()"
      ],
      "execution_count": 0,
      "outputs": []
    },
    {
      "metadata": {
        "id": "O9TR5mlOgzDP",
        "colab_type": "text"
      },
      "cell_type": "markdown",
      "source": [
        "じゃあこのモデルを学習させていきましょう。\n",
        "\n",
        "その前に訓練させる画像を観察する必要があります。フリーザ、ミュウツーの画像を見ましょう。\n",
        "\n",
        "下のコードを実行してください。"
      ]
    },
    {
      "metadata": {
        "id": "ZmS2duP2lsSu",
        "colab_type": "code",
        "colab": {}
      },
      "cell_type": "code",
      "source": [
        "display_dir = './train/Freeza'\n",
        "files = os.listdir(display_dir)\n",
        "img = random.sample(files,len(files))\n",
        "\n",
        "plt.figure(figsize=(10,10))\n",
        "for i in range(8):\n",
        "  temp_img=load_img(os.path.join(display_dir,img[i]),target_size=(150,150))\n",
        "  plt.subplot(4,4,i+1)\n",
        "  plt.imshow(temp_img)\n",
        "  plt.xticks([]),plt.yticks([])\n",
        "  \n",
        "display_dir = './train/Mewtoo'\n",
        "files = os.listdir(display_dir)\n",
        "img = random.sample(files,len(files))\n",
        "\n",
        "for i in range(8,16):\n",
        "  temp_img=load_img(os.path.join(display_dir,img[i]),target_size=(150,150))\n",
        "  plt.subplot(4,4,i+1)\n",
        "  plt.imshow(temp_img)\n",
        "  plt.xticks([]),plt.yticks([])\n",
        "\n",
        "plt.show()"
      ],
      "execution_count": 0,
      "outputs": []
    },
    {
      "metadata": {
        "id": "jalo6pNk_T5S",
        "colab_type": "text"
      },
      "cell_type": "markdown",
      "source": [
        "上の図で、\n",
        "\n",
        "上部分にフリーザ、下部分にミュウツーが見れると思います。８枚ずつしかありませんが、実際は２０枚ずつ以上あります。\n",
        "\n",
        "次に、この画像データをCNNが学習しやすい形に変えていきます。\n",
        "\n",
        "下のコードを実行してください。"
      ]
    },
    {
      "metadata": {
        "id": "1hhFfCJglsW5",
        "colab_type": "code",
        "colab": {}
      },
      "cell_type": "code",
      "source": [
        "train_datagen = ImageDataGenerator(\n",
        "    rescale = 1.0/255)\n",
        "\n",
        "valid_datagen = ImageDataGenerator(rescale = 1.0/255)\n",
        "\n",
        "classes = {'Freeza','Mewtoo'}\n",
        "\n",
        "batch_size = 4\n",
        "\n",
        "train_generator = train_datagen.flow_from_directory(\n",
        "    directory = 'train',\n",
        "    target_size = (img_width, img_height),\n",
        "    class_mode = 'categorical',\n",
        "    batch_size = batch_size,\n",
        "    shuffle = True)\n",
        "\n",
        "valid_generator = valid_datagen.flow_from_directory(\n",
        "    directory='valid',\n",
        "    target_size=(img_width, img_height),\n",
        "    class_mode='categorical',\n",
        "    batch_size= batch_size,\n",
        "    shuffle=True)\n",
        "\n",
        "model = Mynet()\n",
        "\n",
        "model.compile(loss = 'categorical_crossentropy',\n",
        "             optimizer = SGD(lr = 1e-4, momentum = 0.9),\n",
        "             metrics = ['accuracy'])"
      ],
      "execution_count": 0,
      "outputs": []
    },
    {
      "metadata": {
        "id": "X3I7dh4W6iCu",
        "colab_type": "text"
      },
      "cell_type": "markdown",
      "source": [
        "画像データをCNNが学習させやすい形に変換できました。\n",
        "\n",
        "次に、このデータを先程作ったCNNに読み込ませて、学習させていきます。\n",
        "\n",
        "下のコードを実行すると、CNNを学習させることができます。epochsを変えれば、学習数を変えることができます。"
      ]
    },
    {
      "metadata": {
        "id": "ZXG9g-krlsc6",
        "colab_type": "code",
        "colab": {}
      },
      "cell_type": "code",
      "source": [
        "epochs = 50#ここを変えれば学習数が変えられる\n",
        "\n",
        "history = model.fit_generator(\n",
        "    train_generator,\n",
        "    steps_per_epoch= int((50-1)/batch_size) + 1,\n",
        "    validation_data=valid_generator,\n",
        "    validation_steps = int((20-1)/batch_size) + 1,\n",
        "    epochs= epochs,\n",
        "    initial_epoch = 0\n",
        "    )"
      ],
      "execution_count": 0,
      "outputs": []
    },
    {
      "metadata": {
        "id": "DOy80uoiAonI",
        "colab_type": "text"
      },
      "cell_type": "markdown",
      "source": [
        "学習が完了しました。\n",
        "\n",
        "では、精度を見ていきましょう。\n",
        "\n",
        "下のコードを実行すると、epochごとの正解率を見ることができます。"
      ]
    },
    {
      "metadata": {
        "id": "JDajaSU7lsf9",
        "colab_type": "code",
        "colab": {}
      },
      "cell_type": "code",
      "source": [
        "plt.plot(history.history[\"acc\"])\n",
        "plt.xlabel('epoch')\n",
        "plt.ylabel('accuracy')\n",
        "plt.legend(['acc','val_acc'],loc = 'lower right')\n",
        "plt.ylim(0,1)"
      ],
      "execution_count": 0,
      "outputs": []
    },
    {
      "metadata": {
        "id": "qrJ25jJ39LPA",
        "colab_type": "text"
      },
      "cell_type": "markdown",
      "source": [
        "上のグラフは学習しているときの、訓練データの正解率です。\n",
        "横軸がepoch数(学習数)、縦軸が正解率です。\n",
        "\n",
        "訓練データがきちんと判定できているか確かめます。\n",
        "上の図で画像の上に書いてあるのが、CNNの判断したものです。\n",
        "おそらく、訓練データの正解率はけっこう高いので、いい感じに当たっていると思います。"
      ]
    },
    {
      "metadata": {
        "id": "mGrjqn196pdb",
        "colab_type": "code",
        "colab": {}
      },
      "cell_type": "code",
      "source": [
        "label = list(classes)\n",
        "display_dir = './train/Freeza'\n",
        "files = os.listdir(display_dir)\n",
        "img = random.sample(files,len(files))\n",
        "\n",
        "plt.figure(figsize=(10,10))\n",
        "for i in range(8):\n",
        "  temp_img=load_img(os.path.join(display_dir,img[i]),target_size=(150,150))\n",
        "  plt.subplot(4,4,i+1)\n",
        "  plt.imshow(temp_img)\n",
        "  temp_img_array=img_to_array(temp_img)\n",
        "  temp_img_array=temp_img_array.astype('float32')/255.0\n",
        "  temp_img_array=temp_img_array.reshape((1,150,150,3))\n",
        "  img_pred=model.predict(temp_img_array)\n",
        "  plt.title(label[np.argmax(img_pred)])\n",
        "  plt.xticks([]),plt.yticks([])\n",
        "  \n",
        "display_dir = './train/Mewtoo'\n",
        "files = os.listdir(display_dir)\n",
        "img = random.sample(files,len(files))\n",
        "\n",
        "plt.figure(figsize=(10,10))\n",
        "for i in range(8):\n",
        "  temp_img=load_img(os.path.join(display_dir,img[i]),target_size=(150,150))\n",
        "  plt.subplot(4,4,i+1)\n",
        "  plt.imshow(temp_img)\n",
        "  temp_img_array=img_to_array(temp_img)\n",
        "  temp_img_array=temp_img_array.astype('float32')/255.0\n",
        "  temp_img_array=temp_img_array.reshape((1,150,150,3))\n",
        "  img_pred=model.predict(temp_img_array)\n",
        "  plt.title(label[np.argmax(img_pred)])\n",
        "  plt.xticks([]),plt.yticks([])\n",
        "\n",
        "plt.show()\n",
        "\n"
      ],
      "execution_count": 0,
      "outputs": []
    },
    {
      "metadata": {
        "id": "YFxs6lRw9hSA",
        "colab_type": "text"
      },
      "cell_type": "markdown",
      "source": [
        "ですが、訓練データだけの正解率が高いだけでは、ただの訓練データだけを見分けられるCNNです。実際に精度を確かめるなら、訓練データに入れていない画像を用いて、検証する必要があります。そのためのデータを交差検証データといいます。\n",
        "\n",
        "これから\n",
        "\n",
        "交差検証データを見せ、\n",
        "\n",
        "CNNによる交差検証データの精度が学習とともにどう変化しているか、\n",
        "\n",
        "最後に交差検証データをCNNに判断させます。"
      ]
    },
    {
      "metadata": {
        "id": "uQoFIkLSlsis",
        "colab_type": "code",
        "colab": {}
      },
      "cell_type": "code",
      "source": [
        "display_dir = './valid/Freeza'\n",
        "files = os.listdir(display_dir)\n",
        "img = random.sample(files,len(files))\n",
        "\n",
        "plt.figure(figsize=(10,10))\n",
        "for i in range(8):\n",
        "  temp_img=load_img(os.path.join(display_dir,img[i]),target_size=(150,150))\n",
        "  plt.subplot(4,4,i+1)\n",
        "  plt.imshow(temp_img)\n",
        "  plt.xticks([]),plt.yticks([])\n",
        "  \n",
        "display_dir = './valid/Mewtoo'\n",
        "files = os.listdir(display_dir)\n",
        "img = random.sample(files,len(files))\n",
        "\n",
        "for i in range(8,16):\n",
        "  temp_img=load_img(os.path.join(display_dir,img[i-8]),target_size=(150,150))\n",
        "  plt.subplot(4,4,i+1)\n",
        "  plt.imshow(temp_img)\n",
        "  plt.xticks([]),plt.yticks([])\n",
        "\n",
        "plt.show()"
      ],
      "execution_count": 0,
      "outputs": []
    },
    {
      "metadata": {
        "id": "Y62jcVEgC9SH",
        "colab_type": "text"
      },
      "cell_type": "markdown",
      "source": [
        "このデータは訓練データに含まれていない交差検証データです。次は、CNNの交差検証データの正解率を学習とともに示したグラフです。\n"
      ]
    },
    {
      "metadata": {
        "id": "Bij90dYQlsla",
        "colab_type": "code",
        "colab": {}
      },
      "cell_type": "code",
      "source": [
        "plt.plot(history.history[\"val_acc\"])\n",
        "plt.xlabel('epoch')\n",
        "plt.ylabel('accuracy')\n",
        "plt.legend(['acc','val_acc'],loc = 'lower right')\n",
        "plt.ylim(0,1)"
      ],
      "execution_count": 0,
      "outputs": []
    },
    {
      "metadata": {
        "id": "GzTk2Jd6DIXp",
        "colab_type": "text"
      },
      "cell_type": "markdown",
      "source": [
        "訓練データよりかは良くないかったと思われます。\n",
        "最後にこれをテストします。"
      ]
    },
    {
      "metadata": {
        "id": "nYMCeBYKlsoN",
        "colab_type": "code",
        "colab": {}
      },
      "cell_type": "code",
      "source": [
        "label = list(classes)\n",
        "display_dir = './valid/Freeza'\n",
        "files = os.listdir(display_dir)\n",
        "img = random.sample(files,len(files))\n",
        "\n",
        "plt.figure(figsize=(10,10))\n",
        "for i in range(8):\n",
        "  temp_img=load_img(os.path.join(display_dir,img[i]),target_size=(150,150))\n",
        "  plt.subplot(4,4,i+1)\n",
        "  plt.imshow(temp_img)\n",
        "  temp_img_array=img_to_array(temp_img)\n",
        "  temp_img_array=temp_img_array.astype('float32')/255.0\n",
        "  temp_img_array=temp_img_array.reshape((1,150,150,3))\n",
        "  img_pred=model.predict(temp_img_array)\n",
        "  plt.title(label[np.argmax(img_pred)])\n",
        "  plt.xticks([]),plt.yticks([])\n",
        "  \n",
        "display_dir = './valid/Mewtoo'\n",
        "files = os.listdir(display_dir)\n",
        "img = random.sample(files,len(files))\n",
        "\n",
        "plt.figure(figsize=(10,10))\n",
        "for i in range(8):\n",
        "  temp_img=load_img(os.path.join(display_dir,img[i]),target_size=(150,150))\n",
        "  plt.subplot(4,4,i+1)\n",
        "  plt.imshow(temp_img)\n",
        "  temp_img_array=img_to_array(temp_img)\n",
        "  temp_img_array=temp_img_array.astype('float32')/255.0\n",
        "  temp_img_array=temp_img_array.reshape((1,150,150,3))\n",
        "  img_pred=model.predict(temp_img_array)\n",
        "  plt.title(label[np.argmax(img_pred)])\n",
        "  plt.xticks([]),plt.yticks([])\n",
        "\n",
        "plt.show()\n"
      ],
      "execution_count": 0,
      "outputs": []
    },
    {
      "metadata": {
        "id": "jJiB7Ng4EM51",
        "colab_type": "text"
      },
      "cell_type": "markdown",
      "source": [
        "おそらくあまりうまく行ってないと思います。\n",
        "\n",
        "正直、この少ない時間で交差検証データの精度を上げるのは難しいです。交差検証データの精度を上げるためには時間をかける必要があります。だから、今回は訓練データをしっかりと判別させることはできましたが、まだ訓練データに含まれていない画像を判別させることはできないです。\n",
        "\n",
        "ディープラーニングは交差検証データの正解率を上げることで、汎用性を上げています。交差検証データが上がれば、一般化ができたと言えるので大事です。\n",
        "\n",
        "最後に、こちら側で構築した、交差検証データの正解率を上げたCNNを見せます。"
      ]
    },
    {
      "metadata": {
        "id": "F6cRZ3B5lsrG",
        "colab_type": "code",
        "colab": {}
      },
      "cell_type": "code",
      "source": [
        "#load model and weights\n",
        "json_string=open('model.json').read()\n",
        "model=model_from_json(json_string)\n",
        "model.load_weights('weight.h5')\n",
        "\n",
        "model.compile(optimizer=SGD(lr=1e-4,momentum=0.9),\n",
        "              loss='categorical_crossentropy',\n",
        "              metrics=['accuracy'])\n",
        "\n",
        "label = ['Freeza','Mewtwo']\n",
        "\n",
        "display_dir = 'valid/Mewtoo'\n",
        "#predict model and display images\n",
        "files=os.listdir(display_dir)\n",
        "img=random.sample(files,len(files))\n",
        "\n",
        "plt.figure(figsize=(10,10))\n",
        "for i in range(25):\n",
        "    temp_img=load_img(os.path.join(display_dir,img[i]),target_size=(150,150))\n",
        "    plt.subplot(5,5,i+1)\n",
        "    plt.imshow(temp_img)\n",
        "    #Images normalization\n",
        "    temp_img_array=img_to_array(temp_img)\n",
        "    temp_img_array=temp_img_array.astype('float32')/255.0\n",
        "    temp_img_array=temp_img_array.reshape((1,150,150,3))\n",
        "    #predict image\n",
        "    img_pred=model.predict(temp_img_array)\n",
        "    plt.title(label[np.argmax(img_pred)])\n",
        "    #eliminate xticks,yticks\n",
        "    plt.xticks([]),plt.yticks([])\n",
        "\n",
        "\n",
        "plt.show()"
      ],
      "execution_count": 0,
      "outputs": []
    },
    {
      "metadata": {
        "id": "tXGWTnuelstz",
        "colab_type": "code",
        "colab": {}
      },
      "cell_type": "code",
      "source": [
        "}"
      ],
      "execution_count": 0,
      "outputs": []
    },
    {
      "metadata": {
        "id": "mgwjFF9Olswx",
        "colab_type": "code",
        "colab": {}
      },
      "cell_type": "code",
      "source": [
        ""
      ],
      "execution_count": 0,
      "outputs": []
    },
    {
      "metadata": {
        "id": "w9KhuWoWlszb",
        "colab_type": "code",
        "colab": {}
      },
      "cell_type": "code",
      "source": [
        ""
      ],
      "execution_count": 0,
      "outputs": []
    },
    {
      "metadata": {
        "id": "7nMN73acls2g",
        "colab_type": "code",
        "colab": {}
      },
      "cell_type": "code",
      "source": [
        ""
      ],
      "execution_count": 0,
      "outputs": []
    },
    {
      "metadata": {
        "id": "ZPM8gkEDls5U",
        "colab_type": "code",
        "colab": {}
      },
      "cell_type": "code",
      "source": [
        ""
      ],
      "execution_count": 0,
      "outputs": []
    },
    {
      "metadata": {
        "id": "qG01m1-xls8V",
        "colab_type": "code",
        "colab": {}
      },
      "cell_type": "code",
      "source": [
        ""
      ],
      "execution_count": 0,
      "outputs": []
    },
    {
      "metadata": {
        "id": "wBxY1GL3ls_F",
        "colab_type": "code",
        "colab": {}
      },
      "cell_type": "code",
      "source": [
        ""
      ],
      "execution_count": 0,
      "outputs": []
    },
    {
      "metadata": {
        "id": "vh43o-0v2gEV",
        "colab_type": "text"
      },
      "cell_type": "markdown",
      "source": [
        "###畳み込み層とは\n",
        "\n",
        "**畳み込み層**はある画像の局所的な部分を抽象化、特徴を浮き立たせます。\n",
        "\n",
        "そのために、画像を数字で表す必要がある。あらゆる画像はもともとは数字の集まりで、コンピュータにとっては、ただの数字の羅列です。\n",
        "\n",
        "例として、グレースケール画像で考えてみると、画像も高さ×幅の行列で考えることができます。\n",
        "\n",
        "####数字の0\n",
        "![代替テキスト](https://deepage.net/img/convolutional_neural_network/digit.gif　=1000x400)\n",
        "\n",
        "この画像を簡略化して5x5の2値に圧縮して、\n",
        "\n",
        "####数字の0を圧縮\n",
        "![代替テキスト](https://deepage.net/img/convolutional_neural_network/5x5image.jpg)\n",
        "\n",
        "これに以下の3×3のフィルタを適用し畳み込み演算することを考えてみます。\n",
        "\n",
        "####フィルター\n",
        "![代替テキスト](https://deepage.net/img/convolutional_neural_network/filter.jpg)\n",
        "\n",
        "元の入力画像に対し、このフィルターを左上から右下まで要素ごとに掛け合わせていきます。これが**畳み込み層**のやっていることです。\n",
        "\n",
        "####畳み込み\n",
        "![](https://deepage.net/img/convolutional_neural_network/animated_convolution.gif)\n",
        "\n",
        "上の画像では、入力画像をフィルターで左上から右下まで要素ごとに掛け合わせてその和をとって、特徴マップに反映させています。\n",
        "\n",
        "畳み込みすることで、ある画像の局所的な部分を抽象化、特徴を浮き立たせます。結構単純に思えますよね。\n",
        "\n",
        "では、実際にこの**畳み込み層**をプログラミングしていきましょう。上の画像をイメージしてください。\n"
      ]
    },
    {
      "metadata": {
        "id": "cYCrWeAs6m1J",
        "colab_type": "text"
      },
      "cell_type": "markdown",
      "source": [
        "###プログラミング演習\n",
        "\n",
        "今回は、pythonというプログラミング言語でプログラムしていきます。\n",
        "\n",
        "まずは行列の足し算から、\n",
        "\n",
        "####行列の足し算\n",
        "![](https://atarimae.biz/wp-content/uploads/2018/06/matrix-plusminus.png)\n",
        "\n",
        "####行列の足し算:python\n",
        "\n",
        "これをpythonでするときは、\n",
        "\n",
        "np.add()\n",
        "\n",
        "を使います。"
      ]
    },
    {
      "metadata": {
        "id": "Da40B03c8ezK",
        "colab_type": "code",
        "colab": {}
      },
      "cell_type": "code",
      "source": [
        "#example\n",
        "a = [[2,5],\n",
        "     [-2,3]]\n",
        "b = [[1,0],\n",
        "     [2,-1]]\n",
        "np.add(a,b)"
      ],
      "execution_count": 0,
      "outputs": []
    },
    {
      "metadata": {
        "id": "Cji4Amts87sb",
        "colab_type": "text"
      },
      "cell_type": "markdown",
      "source": [
        "では、ためしにcとdを足してみてください。"
      ]
    },
    {
      "metadata": {
        "id": "URMJ0e8B9BpR",
        "colab_type": "code",
        "colab": {}
      },
      "cell_type": "code",
      "source": [
        "c = [[1,1],\n",
        "     [1,1]]\n",
        "d = [[2,2],\n",
        "     [2,2]]\n",
        "#START YOUR CODE（一行）\n",
        "np.add(c,d)\n",
        "#END YOUR CODE"
      ],
      "execution_count": 0,
      "outputs": []
    },
    {
      "metadata": {
        "id": "OQ7mUmvA90Ud",
        "colab_type": "code",
        "colab": {}
      },
      "cell_type": "code",
      "source": [
        "#array([[3,3],\n",
        "#       [3,3]])だったらOK。次にいきましょう。"
      ],
      "execution_count": 0,
      "outputs": []
    },
    {
      "metadata": {
        "id": "rkFKB3cM-ati",
        "colab_type": "text"
      },
      "cell_type": "markdown",
      "source": [
        "####行列の掛け算\n",
        "![](https://mathwords.net/wp-content/uploads/2016/07/gyoretsuseki3-300x59.png)\n",
        "####行列の掛け算:python\n",
        "これをpythonでするときは、\n",
        "\n",
        "np.multiply()\n",
        "\n",
        "を使います。"
      ]
    },
    {
      "metadata": {
        "id": "mDW8fJl9_NSx",
        "colab_type": "code",
        "colab": {}
      },
      "cell_type": "code",
      "source": [
        "#example\n",
        "a = [[2,5],\n",
        "     [-2,3]]\n",
        "b = [[1,0],\n",
        "     [2,-1]]\n",
        "np.multiply(a,b)"
      ],
      "execution_count": 0,
      "outputs": []
    },
    {
      "metadata": {
        "id": "GMmWiTpD_a_o",
        "colab_type": "text"
      },
      "cell_type": "markdown",
      "source": [
        "では、ためしにcとdをかけてみてください。"
      ]
    },
    {
      "metadata": {
        "id": "-2Z-dDNp_YaR",
        "colab_type": "code",
        "colab": {}
      },
      "cell_type": "code",
      "source": [
        "c = [[1,2],\n",
        "     [2,1]]\n",
        "d = [[2,1],\n",
        "     [1,2]]\n",
        "#START YOUR CODE（一行）\n",
        "np.multiply(c,d)\n",
        "#END YOUR CODE"
      ],
      "execution_count": 0,
      "outputs": []
    },
    {
      "metadata": {
        "id": "W5oO7N2Q_n2Z",
        "colab_type": "code",
        "colab": {}
      },
      "cell_type": "code",
      "source": [
        "#array([[2,2],\n",
        "#       [2,2]])だったらOK。次にいきましょう。"
      ],
      "execution_count": 0,
      "outputs": []
    },
    {
      "metadata": {
        "id": "_F8oD7hwApeq",
        "colab_type": "text"
      },
      "cell_type": "markdown",
      "source": [
        "####行列の合計\n",
        "\n",
        "行列の合計は行列のすべての数を足し合わせます。\n",
        "\n",
        "####行列の合計:python\n",
        "\n",
        "行列の合計はnp.sum()\n",
        "\n",
        "を使います。"
      ]
    },
    {
      "metadata": {
        "id": "zrc0OK8wBOBA",
        "colab_type": "code",
        "colab": {}
      },
      "cell_type": "code",
      "source": [
        "#example\n",
        "a = [[2,5],\n",
        "     [-2,3]]\n",
        "np.sum(a) #2+5+(-2)+3=8"
      ],
      "execution_count": 0,
      "outputs": []
    },
    {
      "metadata": {
        "id": "T5LilPzwBdrN",
        "colab_type": "text"
      },
      "cell_type": "markdown",
      "source": [
        "\n",
        "では、ためしにaを合計してみてください。"
      ]
    },
    {
      "metadata": {
        "id": "hnpEQmkwBkLO",
        "colab_type": "code",
        "colab": {}
      },
      "cell_type": "code",
      "source": [
        "c = [[3,3],\n",
        "     [3,3]]\n",
        "#START YOUR CODE（一行）\n",
        "\n",
        "#END YOUR CODE"
      ],
      "execution_count": 0,
      "outputs": []
    },
    {
      "metadata": {
        "id": "y2rHYmWDBvM1",
        "colab_type": "code",
        "colab": {}
      },
      "cell_type": "code",
      "source": [
        "#12だったらOK。次にいきましょう。"
      ],
      "execution_count": 0,
      "outputs": []
    },
    {
      "metadata": {
        "id": "-pPyDH8TB3Dm",
        "colab_type": "text"
      },
      "cell_type": "markdown",
      "source": [
        "いままで学んだ行列の掛け算と合計を使って、**畳み込み**を行っていきましょう。\n",
        "####畳み込み\n",
        "![](https://deepage.net/img/convolutional_neural_network/animated_convolution.gif)\n",
        "今回の**畳み込み**は特徴マップの左上の0を入力画像（青）とフィルター（ピンク）を組み合わせて作ってみましょう。\n",
        "\n",
        "![代替テキスト](https://deepage.net/img/convolutional_neural_network/5x5image.jpg)\n",
        "\n",
        "####フィルター\n",
        "![代替テキスト](https://deepage.net/img/convolutional_neural_network/filter.jpg)\n"
      ]
    },
    {
      "metadata": {
        "id": "9TfEeSTZQM_5",
        "colab_type": "code",
        "colab": {}
      },
      "cell_type": "code",
      "source": [
        "#入力画像の左上の部分をaに\n",
        "#[[0,0,0],\n",
        "# [0,0,1],\n",
        "# [0,1,0]] \n",
        "#フィルターをwに\n",
        "#[[1,0,1],\n",
        "# [0,1,0],\n",
        "# [1,0,1]]\n",
        "#入れておきます。aとwをつかって特徴マップの左上の0を出力しよう\n",
        "#ステップ\n",
        "#1.aとwを掛け合わせる\n",
        "#2.aとwをかけ合わせた、sを合計する。"
      ],
      "execution_count": 0,
      "outputs": []
    },
    {
      "metadata": {
        "id": "4wjHi-52Rh0I",
        "colab_type": "code",
        "colab": {}
      },
      "cell_type": "code",
      "source": [
        "a = [[0,0,0],\n",
        "     [0,0,1],\n",
        "     [0,1,0]]\n",
        "\n",
        "w = [[1,0,1],\n",
        "     [0,1,0],\n",
        "     [1,0,1]]\n",
        "#START YOUR CODE(２行)\n",
        "s = \n",
        "\n",
        "#END YOUR CODE"
      ],
      "execution_count": 0,
      "outputs": []
    },
    {
      "metadata": {
        "id": "G0YznE-5R48A",
        "colab_type": "code",
        "colab": {}
      },
      "cell_type": "code",
      "source": [
        "#0だったらOK。次にいきましょう。"
      ],
      "execution_count": 0,
      "outputs": []
    },
    {
      "metadata": {
        "id": "MS6ZDytsRujP",
        "colab_type": "text"
      },
      "cell_type": "markdown",
      "source": [
        "これで**畳み込み**はOK。一応、この畳込みすべてを下のコードに書いておきます。"
      ]
    },
    {
      "metadata": {
        "id": "dpmyihoe4KVk",
        "colab_type": "code",
        "colab": {
          "base_uri": "https://localhost:8080/",
          "height": 236
        },
        "outputId": "d80bd941-f79e-4046-a92b-807ae00e2e62"
      },
      "cell_type": "code",
      "source": [
        "a = [[0,0,0,0,0],\n",
        "     [0,0,1,1,0],\n",
        "     [0,1,0,1,0],\n",
        "     [0,1,0,1,0],\n",
        "     [0,0,1,0,0]] #入力画像\n",
        "\n",
        "w = [[1,0,1],\n",
        "     [0,1,0],\n",
        "     [1,0,1]] #フィルター\n",
        "\n",
        "a,w = np.array(a),np.array(w)\n",
        "\n",
        "def conv_single_step(a, w):\n",
        "    \"\"\"\n",
        "    aには入力画像（青）が、wにはフィルター（ピンク）が入っている。\n",
        "    今までの行列の掛け算と合計を使って特徴マップ（緑）を作ってみよう。\n",
        "    \"\"\"\n",
        "    l = []\n",
        "    ll = []\n",
        "    for i in range(0,3):\n",
        "      for j in range(0,3):\n",
        "        a_slice = a[i:i+3,j:j+3]\n",
        "        sum = np.multiply(a_slice, w)\n",
        "        z = np.sum(sum)\n",
        "        ll.append(z)\n",
        "      l.append(ll)\n",
        "      ll = []\n",
        "    \n",
        "      \n",
        "\n",
        "    return np.array(l)\n",
        "\n",
        "\n",
        "tokutyoumap = conv_single_step(a,w)\n",
        "print(tokutyoumap)        "
      ],
      "execution_count": 1,
      "outputs": [
        {
          "output_type": "error",
          "ename": "NameError",
          "evalue": "ignored",
          "traceback": [
            "\u001b[0;31m---------------------------------------------------------------------------\u001b[0m",
            "\u001b[0;31mNameError\u001b[0m                                 Traceback (most recent call last)",
            "\u001b[0;32m<ipython-input-1-62e142e0cf03>\u001b[0m in \u001b[0;36m<module>\u001b[0;34m()\u001b[0m\n\u001b[1;32m      9\u001b[0m      [1,0,1]] #フィルター\n\u001b[1;32m     10\u001b[0m \u001b[0;34m\u001b[0m\u001b[0m\n\u001b[0;32m---> 11\u001b[0;31m \u001b[0ma\u001b[0m\u001b[0;34m,\u001b[0m\u001b[0mw\u001b[0m \u001b[0;34m=\u001b[0m \u001b[0mnp\u001b[0m\u001b[0;34m.\u001b[0m\u001b[0marray\u001b[0m\u001b[0;34m(\u001b[0m\u001b[0ma\u001b[0m\u001b[0;34m)\u001b[0m\u001b[0;34m,\u001b[0m\u001b[0mnp\u001b[0m\u001b[0;34m.\u001b[0m\u001b[0marray\u001b[0m\u001b[0;34m(\u001b[0m\u001b[0mw\u001b[0m\u001b[0;34m)\u001b[0m\u001b[0;34m\u001b[0m\u001b[0m\n\u001b[0m\u001b[1;32m     12\u001b[0m \u001b[0;34m\u001b[0m\u001b[0m\n\u001b[1;32m     13\u001b[0m \u001b[0;32mdef\u001b[0m \u001b[0mconv_single_step\u001b[0m\u001b[0;34m(\u001b[0m\u001b[0ma\u001b[0m\u001b[0;34m,\u001b[0m \u001b[0mw\u001b[0m\u001b[0;34m)\u001b[0m\u001b[0;34m:\u001b[0m\u001b[0;34m\u001b[0m\u001b[0m\n",
            "\u001b[0;31mNameError\u001b[0m: name 'np' is not defined"
          ]
        }
      ]
    },
    {
      "metadata": {
        "id": "qBvIHCFAAG3Z",
        "colab_type": "code",
        "colab": {}
      },
      "cell_type": "code",
      "source": [
        ""
      ],
      "execution_count": 0,
      "outputs": []
    }
  ]
}